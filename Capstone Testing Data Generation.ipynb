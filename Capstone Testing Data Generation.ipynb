{
 "cells": [
  {
   "cell_type": "code",
   "execution_count": 1,
   "metadata": {},
   "outputs": [],
   "source": [
    "# Import libraries\n",
    "import pandas as pd\n",
    "import random\n",
    "from datetime import datetime, timedelta"
   ]
  },
  {
   "cell_type": "code",
   "execution_count": 3,
   "metadata": {},
   "outputs": [],
   "source": [
    "\n",
    "# Define OWASP WSTG Categories (updated with specified categorisation)\n",
    "owasp_wstg_categories = {\n",
    "    \"Information Gathering\": \"WSTG-IGV-01\",\n",
    "    \"Configuration and Deployment Management\": \"WSTG-CONF-02\",\n",
    "    \"Identity Management\": \"WSTG-IDM-03\",\n",
    "    \"Authentication Testing\": \"WSTG-ATHN-04\",\n",
    "    \"Authorization Testing\": \"WSTG-ATHZ-05\",\n",
    "    \"Session Management Testing\": \"WSTG-SESS-06\",\n",
    "    \"Data Validation Testing\": \"WSTG-DV-07\",\n",
    "    \"Error Handling\": \"WSTG-ERRH-08\",\n",
    "    \"Cryptography Testing\": \"WSTG-CRYP-09\",\n",
    "    \"Business Logic Testing\": \"WSTG-BUSL-10\",\n",
    "    \"Client-Side Testing\": \"WSTG-CLNT-11\",\n",
    "    \"API Testing\": \"WSTG-API-12\"\n",
    "}\n"
   ]
  },
  {
   "cell_type": "code",
   "execution_count": 4,
   "metadata": {},
   "outputs": [],
   "source": [
    "# Define MITRE ATT&CK Technique IDs (Selected based on relevance - NOT all are here)\n",
    "mitre_techniques = [\n",
    "    \"T1190\",  # Exploit Public-Facing Application - Targets OWASP Injection, XSS, and RCE vulnerabilities\n",
    "    \"T1078\",  # Valid Accounts - Covers credential-based attacks like brute force and credential stuffing\n",
    "    \"T1133\",  # External Remote Services - Exploits misconfigured VPN, RDP, or SSH, aligning with OWASP Config Testing\n",
    "    \"T1059\",  # Command and Scripting Interpreter - Tests script execution vulnerabilities (JS, Python, Bash)\n",
    "    \"T1087\",  # Account Discovery - Focuses on enumerating user accounts and roles, relevant for Identity Testing\n",
    "    \"T1110\",  # Brute Force - Checks password strength, rate-limiting, and credential stuffing attacks\n",
    "    \"T1595\",  # Active Scanning - Simulates attacker reconnaissance to identify open ports, services, and vulnerabilities\n",
    "    \"T1195\",  # Supply Chain Compromise - Targets dependencies, 3rd-party software, and package vulnerabilities\n",
    "    \"T1203\",  # Exploitation for Client Execution - Examines drive-by downloads, malicious script execution\n",
    "    \"T1566\",  # Phishing - Tests social engineering scenarios related to email-based attacks\n",
    "]"
   ]
  },
  {
   "cell_type": "code",
   "execution_count": 5,
   "metadata": {},
   "outputs": [],
   "source": [
    "# Define Compliance Frameworks (Random selection)\n",
    "compliance_frameworks = [\"PCI DSS 6.5.1\", \"HIPAA 164.312\", \"ISO 27001\"]"
   ]
  },
  {
   "cell_type": "code",
   "execution_count": 6,
   "metadata": {},
   "outputs": [],
   "source": [
    "# Define CVSS score categories - Industry standards\n",
    "cvss_scores = {\n",
    "    \"Critical\": \"9.8 - CVSS:3.1/AV:N/AC:L/PR:N/UI:N/S:U/C:H/I:H/A:H\",\n",
    "    \"High\": \"7.5 - CVSS:3.1/AV:N/AC:L/PR:N/UI:R/S:U/C:H/I:H/A:H\",\n",
    "    \"Medium\": \"5.4 - CVSS:3.1/AV:N/AC:H/PR:N/UI:R/S:U/C:L/I:L/A:L\",\n",
    "    \"Low\": \"3.2 - CVSS:3.1/AV:L/AC:H/PR:N/UI:N/S:U/C:L/I:N/A:N\"\n",
    "}"
   ]
  },
  {
   "cell_type": "code",
   "execution_count": 7,
   "metadata": {},
   "outputs": [],
   "source": [
    "# Generate synthetic test cases with OWASP WSTG details\n",
    "def generate_test_cases(num_cases=100):\n",
    "    test_cases = []\n",
    "    for i in range(1, num_cases + 1):\n",
    "        test_id = f'APP-SEC-{i:03}'  #Generates a test case ID in the format \"TEST-001\", \"TEST-002\", ..., \"TEST-100\".\n",
    "        project_id = f'PROJ-{random.randint(1, 10):03}'\n",
    "        tester_id = f'USER-{random.randint(1, 5):03}' #range set between 1-5, have to double check again \n",
    "        user_id = f'USER-{random.randint(1, 20):03}' #range set between 1-20, have to double check again \n",
    "        days_allocated = random.randint(1, 30) #Up to 30 days \n",
    "        owasp_category = random.choice(list(owasp_wstg_categories.keys()))\n",
    "        owasp_reference = owasp_wstg_categories[owasp_category]\n",
    "        mitre_attack_id = random.choice(mitre_techniques)\n",
    "        compliance = random.choice(compliance_frameworks)\n",
    "        test_prerequisites = random.choice([\"Valid user credentials\", \"VPN access\", \"Admin privileges required\"])\n",
    "        severity_label = random.choice(list(cvss_scores.keys()))\n",
    "        cvss_vector = cvss_scores[severity_label]\n",
    "        remediation_status = random.choice([\"Open\", \"In Progress\", \"Verified Fixed\"])\n",
    "\n",
    "        test_case = { #as per updated comprehensive schema as of 28/02\n",
    "            'Test ID': test_id,\n",
    "            'Project ID': project_id,\n",
    "            'Tester ID': tester_id,\n",
    "            'User ID': user_id,\n",
    "            'Days Allocated': days_allocated,\n",
    "            'OWASP Category': owasp_category,\n",
    "            'OWASP Reference': owasp_reference,\n",
    "            'MITRE ATT&CK Technique ID': mitre_attack_id,\n",
    "            'Compliance Frameworks': compliance,\n",
    "            'Test Prerequisites': test_prerequisites,\n",
    "            'Finding Severity': severity_label,\n",
    "            'CVSS Score': cvss_vector,\n",
    "            'Remediation Status': remediation_status,\n",
    "            'Status': random.choice(['Pending', 'In Progress', 'Completed']),\n",
    "            'Created On': (datetime.now() - timedelta(days=random.randint(1, 30))).strftime('%Y-%m-%d'),\n",
    "            'Modified On': datetime.now().strftime('%Y-%m-%d')\n",
    "        }\n",
    "        test_cases.append(test_case)\n",
    "    return pd.DataFrame(test_cases)\n"
   ]
  },
  {
   "cell_type": "code",
   "execution_count": 9,
   "metadata": {},
   "outputs": [
    {
     "name": "stdout",
     "output_type": "stream",
     "text": [
      "       Test ID Project ID Tester ID   User ID  Days Allocated  \\\n",
      "0  APP-SEC-001   PROJ-010  USER-005  USER-003              13   \n",
      "1  APP-SEC-002   PROJ-005  USER-005  USER-005              18   \n",
      "2  APP-SEC-003   PROJ-007  USER-004  USER-015              13   \n",
      "3  APP-SEC-004   PROJ-001  USER-002  USER-020              10   \n",
      "4  APP-SEC-005   PROJ-005  USER-001  USER-004              23   \n",
      "\n",
      "                            OWASP Category OWASP Reference  \\\n",
      "0                           Error Handling    WSTG-ERRH-08   \n",
      "1  Configuration and Deployment Management    WSTG-CONF-02   \n",
      "2                  Data Validation Testing      WSTG-DV-07   \n",
      "3                   Authentication Testing    WSTG-ATHN-04   \n",
      "4               Session Management Testing    WSTG-SESS-06   \n",
      "\n",
      "  MITRE ATT&CK Technique ID Compliance Frameworks         Test Prerequisites  \\\n",
      "0                     T1087         HIPAA 164.312  Admin privileges required   \n",
      "1                     T1059         PCI DSS 6.5.1                 VPN access   \n",
      "2                     T1203             ISO 27001     Valid user credentials   \n",
      "3                     T1110         HIPAA 164.312     Valid user credentials   \n",
      "4                     T1195         PCI DSS 6.5.1  Admin privileges required   \n",
      "\n",
      "  Finding Severity                                         CVSS Score  \\\n",
      "0         Critical  9.8 - CVSS:3.1/AV:N/AC:L/PR:N/UI:N/S:U/C:H/I:H...   \n",
      "1           Medium  5.4 - CVSS:3.1/AV:N/AC:H/PR:N/UI:R/S:U/C:L/I:L...   \n",
      "2           Medium  5.4 - CVSS:3.1/AV:N/AC:H/PR:N/UI:R/S:U/C:L/I:L...   \n",
      "3         Critical  9.8 - CVSS:3.1/AV:N/AC:L/PR:N/UI:N/S:U/C:H/I:H...   \n",
      "4         Critical  9.8 - CVSS:3.1/AV:N/AC:L/PR:N/UI:N/S:U/C:H/I:H...   \n",
      "\n",
      "  Remediation Status       Status  Created On Modified On  \n",
      "0               Open  In Progress  2025-02-25  2025-02-28  \n",
      "1        In Progress      Pending  2025-01-31  2025-02-28  \n",
      "2               Open      Pending  2025-01-31  2025-02-28  \n",
      "3     Verified Fixed    Completed  2025-02-01  2025-02-28  \n",
      "4               Open    Completed  2025-02-12  2025-02-28  \n"
     ]
    }
   ],
   "source": [
    "# Generate updated test case data\n",
    "test_case_data = generate_test_cases(100)\n",
    "\n",
    "# Display first few rows\n",
    "print(test_case_data.head())  # Prints data in the terminal"
   ]
  },
  {
   "cell_type": "code",
   "execution_count": null,
   "metadata": {},
   "outputs": [],
   "source": [
    "# use of matching Function (match_logs_to_tests) -- e.g, to match and link the testing dataset to logs \n",
    "\n",
    "# A new function match_logs_to_tests() will be added to processes the log data and matches each log entry to its corresponding test case based on keywords in the log event and test case categories.\n",
    "# Matching Logic: The function looks for matches between log events (like \"login\", \"SQL injection\") and test case categories (like \"Authentication Testing\" or MITRE attack techniques like \"T1190\")."
   ]
  },
  {
   "cell_type": "code",
   "execution_count": 10,
   "metadata": {},
   "outputs": [
    {
     "name": "stdout",
     "output_type": "stream",
     "text": [
      "Updated security test cases saved as 'updated_security_test_cases.csv'\n"
     ]
    }
   ],
   "source": [
    "# Save the generated test data to a CSV file\n",
    "test_case_data.to_csv(\"updated_security_test_cases.csv\", index=False)\n",
    "print(\"Updated security test cases saved as 'updated_security_test_cases.csv'\")"
   ]
  }
 ],
 "metadata": {
  "kernelspec": {
   "display_name": "Python 3",
   "language": "python",
   "name": "python3"
  },
  "language_info": {
   "codemirror_mode": {
    "name": "ipython",
    "version": 3
   },
   "file_extension": ".py",
   "mimetype": "text/x-python",
   "name": "python",
   "nbconvert_exporter": "python",
   "pygments_lexer": "ipython3",
   "version": "3.10.6"
  }
 },
 "nbformat": 4,
 "nbformat_minor": 2
}
