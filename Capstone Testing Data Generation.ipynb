{
 "cells": [
  {
   "cell_type": "code",
   "execution_count": 6,
   "metadata": {},
   "outputs": [],
   "source": [
    "# import libraries\n",
    "import pandas as pd\n",
    "import random\n",
    "from datetime import datetime, timedelta"
   ]
  },
  {
   "cell_type": "code",
   "execution_count": 7,
   "metadata": {},
   "outputs": [],
   "source": [
    "# Define Correct OWASP WSTG Categories\n",
    "owasp_wstg_categories = [\n",
    "    \"Information Gathering\",\n",
    "    \"Configuration and Deployment Management\",\n",
    "    \"Identity Management\",\n",
    "    \"Authentication Testing\",\n",
    "    \"Authorization Testing\",\n",
    "    \"Session Management Testing\",\n",
    "    \"Data Validation Testing\",\n",
    "    \"Error Handling\",\n",
    "    \"Cryptography Testing\",\n",
    "    \"Business Logic Testing\",\n",
    "    \"Client-Side Testing\",\n",
    "    \"API Testing\"\n",
    "]\n"
   ]
  },
  {
   "cell_type": "code",
   "execution_count": 8,
   "metadata": {},
   "outputs": [],
   "source": [
    "# Generate synthetic test cases with OWASP WSTG details\n",
    "def generate_test_cases(num_cases=100):\n",
    "    test_cases = []\n",
    "    for i in range(1, num_cases + 1):\n",
    "        test_id = f'TEST-{i:03}' #Generates a test case ID in the format \"TEST-001\", \"TEST-002\", ..., \"TEST-100\".\n",
    "        project_id = f'PROJ-{random.randint(1, 10):03}' \n",
    "        tester_id = f'USER-{random.randint(1, 5):03}'\n",
    "        user_id = f'USER-{random.randint(1, 20):03}' #range set between 1-20, have to double check again \n",
    "        days_allocated = random.randint(1, 30) \n",
    "        owasp_category = random.choice(owasp_wstg_categories) \n",
    "        \n",
    "        test_case = { #as per preferred schema provided \n",
    "            'Test ID': test_id,\n",
    "            'Project ID': project_id,\n",
    "            'Tester ID': tester_id,\n",
    "            'User ID': user_id,\n",
    "            'Days Allocated': days_allocated,\n",
    "            'OWASP Category': owasp_category,\n",
    "            'Status': random.choice(['Pending', 'In Progress', 'Completed']),\n",
    "            'Created On': (datetime.now() - timedelta(days=random.randint(1, 30))).strftime('%Y-%m-%d'),\n",
    "            'Modified On': datetime.now().strftime('%Y-%m-%d')\n",
    "        }\n",
    "        test_cases.append(test_case)\n",
    "    return pd.DataFrame(test_cases)"
   ]
  },
  {
   "cell_type": "code",
   "execution_count": 9,
   "metadata": {},
   "outputs": [
    {
     "data": {
      "text/html": [
       "<div>\n",
       "<style scoped>\n",
       "    .dataframe tbody tr th:only-of-type {\n",
       "        vertical-align: middle;\n",
       "    }\n",
       "\n",
       "    .dataframe tbody tr th {\n",
       "        vertical-align: top;\n",
       "    }\n",
       "\n",
       "    .dataframe thead th {\n",
       "        text-align: right;\n",
       "    }\n",
       "</style>\n",
       "<table border=\"1\" class=\"dataframe\">\n",
       "  <thead>\n",
       "    <tr style=\"text-align: right;\">\n",
       "      <th></th>\n",
       "      <th>Test ID</th>\n",
       "      <th>Project ID</th>\n",
       "      <th>Tester ID</th>\n",
       "      <th>User ID</th>\n",
       "      <th>Days Allocated</th>\n",
       "      <th>OWASP Category</th>\n",
       "      <th>Status</th>\n",
       "      <th>Created On</th>\n",
       "      <th>Modified On</th>\n",
       "    </tr>\n",
       "  </thead>\n",
       "  <tbody>\n",
       "    <tr>\n",
       "      <th>0</th>\n",
       "      <td>TEST-001</td>\n",
       "      <td>PROJ-004</td>\n",
       "      <td>USER-001</td>\n",
       "      <td>USER-011</td>\n",
       "      <td>30</td>\n",
       "      <td>Session Management Testing</td>\n",
       "      <td>Pending</td>\n",
       "      <td>2025-02-01</td>\n",
       "      <td>2025-02-26</td>\n",
       "    </tr>\n",
       "    <tr>\n",
       "      <th>1</th>\n",
       "      <td>TEST-002</td>\n",
       "      <td>PROJ-007</td>\n",
       "      <td>USER-003</td>\n",
       "      <td>USER-007</td>\n",
       "      <td>27</td>\n",
       "      <td>Error Handling</td>\n",
       "      <td>In Progress</td>\n",
       "      <td>2025-02-19</td>\n",
       "      <td>2025-02-26</td>\n",
       "    </tr>\n",
       "    <tr>\n",
       "      <th>2</th>\n",
       "      <td>TEST-003</td>\n",
       "      <td>PROJ-006</td>\n",
       "      <td>USER-002</td>\n",
       "      <td>USER-008</td>\n",
       "      <td>12</td>\n",
       "      <td>API Testing</td>\n",
       "      <td>Pending</td>\n",
       "      <td>2025-02-19</td>\n",
       "      <td>2025-02-26</td>\n",
       "    </tr>\n",
       "    <tr>\n",
       "      <th>3</th>\n",
       "      <td>TEST-004</td>\n",
       "      <td>PROJ-001</td>\n",
       "      <td>USER-004</td>\n",
       "      <td>USER-008</td>\n",
       "      <td>21</td>\n",
       "      <td>Session Management Testing</td>\n",
       "      <td>In Progress</td>\n",
       "      <td>2025-01-30</td>\n",
       "      <td>2025-02-26</td>\n",
       "    </tr>\n",
       "    <tr>\n",
       "      <th>4</th>\n",
       "      <td>TEST-005</td>\n",
       "      <td>PROJ-008</td>\n",
       "      <td>USER-004</td>\n",
       "      <td>USER-011</td>\n",
       "      <td>12</td>\n",
       "      <td>Information Gathering</td>\n",
       "      <td>Pending</td>\n",
       "      <td>2025-02-13</td>\n",
       "      <td>2025-02-26</td>\n",
       "    </tr>\n",
       "  </tbody>\n",
       "</table>\n",
       "</div>"
      ],
      "text/plain": [
       "    Test ID Project ID Tester ID   User ID  Days Allocated  \\\n",
       "0  TEST-001   PROJ-004  USER-001  USER-011              30   \n",
       "1  TEST-002   PROJ-007  USER-003  USER-007              27   \n",
       "2  TEST-003   PROJ-006  USER-002  USER-008              12   \n",
       "3  TEST-004   PROJ-001  USER-004  USER-008              21   \n",
       "4  TEST-005   PROJ-008  USER-004  USER-011              12   \n",
       "\n",
       "               OWASP Category       Status  Created On Modified On  \n",
       "0  Session Management Testing      Pending  2025-02-01  2025-02-26  \n",
       "1              Error Handling  In Progress  2025-02-19  2025-02-26  \n",
       "2                 API Testing      Pending  2025-02-19  2025-02-26  \n",
       "3  Session Management Testing  In Progress  2025-01-30  2025-02-26  \n",
       "4       Information Gathering      Pending  2025-02-13  2025-02-26  "
      ]
     },
     "execution_count": 9,
     "metadata": {},
     "output_type": "execute_result"
    }
   ],
   "source": [
    "# Generate updated test case data\n",
    "test_case_data = generate_test_cases(100)\n",
    "\n",
    "# Display first few rows\n",
    "test_case_data.head()"
   ]
  },
  {
   "cell_type": "code",
   "execution_count": 10,
   "metadata": {},
   "outputs": [
    {
     "name": "stdout",
     "output_type": "stream",
     "text": [
      "Security test cases saved as 'security_test_cases.csv'\n"
     ]
    }
   ],
   "source": [
    "# Save the generated test data to a CSV file\n",
    "test_case_data.to_csv(\"security_test_cases.csv\", index=False)\n",
    "print(\"Security test cases saved as 'security_test_cases.csv'\")"
   ]
  }
 ],
 "metadata": {
  "kernelspec": {
   "display_name": "Python 3",
   "language": "python",
   "name": "python3"
  },
  "language_info": {
   "codemirror_mode": {
    "name": "ipython",
    "version": 3
   },
   "file_extension": ".py",
   "mimetype": "text/x-python",
   "name": "python",
   "nbconvert_exporter": "python",
   "pygments_lexer": "ipython3",
   "version": "3.10.6"
  }
 },
 "nbformat": 4,
 "nbformat_minor": 2
}
