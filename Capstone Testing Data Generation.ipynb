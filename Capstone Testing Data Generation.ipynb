{
 "cells": [
  {
   "cell_type": "code",
   "execution_count": null,
   "metadata": {},
   "outputs": [
    {
     "ename": "",
     "evalue": "",
     "output_type": "error",
     "traceback": [
      "\u001b[1;31mRunning cells with 'Python 3.12.1' requires the ipykernel package.\n",
      "\u001b[1;31mRun the following command to install 'ipykernel' into the Python environment. \n",
      "\u001b[1;31mCommand: '/opt/homebrew/bin/python3.12 -m pip install ipykernel -U --user --force-reinstall'"
     ]
    }
   ],
   "source": [
    "# import libraries\n",
    "import pandas as pd\n",
    "import random\n",
    "from datetime import datetime, timedelta"
   ]
  },
  {
   "cell_type": "code",
   "execution_count": null,
   "metadata": {},
   "outputs": [
    {
     "ename": "",
     "evalue": "",
     "output_type": "error",
     "traceback": [
      "\u001b[1;31mRunning cells with 'Python 3.12.1' requires the ipykernel package.\n",
      "\u001b[1;31mRun the following command to install 'ipykernel' into the Python environment. \n",
      "\u001b[1;31mCommand: '/opt/homebrew/bin/python3.12 -m pip install ipykernel -U --user --force-reinstall'"
     ]
    }
   ],
   "source": [
    "# Define Correct OWASP WSTG Categories\n",
    "owasp_wstg_categories = [\n",
    "    \"Information Gathering\",\n",
    "    \"Configuration and Deployment Management\",\n",
    "    \"Identity Management\",\n",
    "    \"Authentication Testing\",\n",
    "    \"Authorization Testing\",\n",
    "    \"Session Management Testing\",\n",
    "    \"Data Validation Testing\",\n",
    "    \"Error Handling\",\n",
    "    \"Cryptography Testing\",\n",
    "    \"Business Logic Testing\",\n",
    "    \"Client-Side Testing\",\n",
    "    \"API Testing\"\n",
    "]\n"
   ]
  },
  {
   "cell_type": "code",
   "execution_count": null,
   "metadata": {},
   "outputs": [],
   "source": [
    "# Generate synthetic test cases with OWASP WSTG details\n",
    "def generate_test_cases(num_cases=100):\n",
    "    test_cases = []\n",
    "    for i in range(1, num_cases + 1):\n",
    "        test_id = f'TEST-{i:03}' #Generates a test case ID in the format \"TEST-001\", \"TEST-002\", ..., \"TEST-100\".\n",
    "        project_id = f'PROJ-{random.randint(1, 10):03}' \n",
    "        tester_id = f'USER-{random.randint(1, 5):03}'\n",
    "        days_allocated = random.randint(1, 30) \n",
    "        owasp_category = random.choice(owasp_wstg_categories) \n",
    "        \n",
    "        test_case = { #as per preferred schema provided \n",
    "            'Test ID': test_id,\n",
    "            'Project ID': project_id,\n",
    "            'Tester ID': tester_id,\n",
    "            'Days Allocated': days_allocated,\n",
    "            'OWASP Category': owasp_category,\n",
    "            'Status': random.choice(['Pending', 'In Progress', 'Completed']),\n",
    "            'Created On': (datetime.now() - timedelta(days=random.randint(1, 30))).strftime('%Y-%m-%d'),\n",
    "            'Modified On': datetime.now().strftime('%Y-%m-%d')\n",
    "        }\n",
    "        test_cases.append(test_case)\n",
    "    return pd.DataFrame(test_cases)"
   ]
  },
  {
   "cell_type": "code",
   "execution_count": null,
   "metadata": {},
   "outputs": [],
   "source": [
    "# Generate updated test case data\n",
    "test_case_data = generate_test_cases(100)\n",
    "\n",
    "# Display first few rows\n",
    "test_case_data.head()"
   ]
  },
  {
   "cell_type": "code",
   "execution_count": null,
   "metadata": {},
   "outputs": [],
   "source": [
    "# Save the generated test data to a CSV file\n",
    "test_case_data.to_csv(\"security_test_cases.csv\", index=False)\n",
    "print(\"Security test cases saved as 'security_test_cases.csv'\")"
   ]
  }
 ],
 "metadata": {
  "kernelspec": {
   "display_name": "Python 3",
   "language": "python",
   "name": "python3"
  },
  "language_info": {
   "name": "python",
   "version": "3.12.1"
  }
 },
 "nbformat": 4,
 "nbformat_minor": 2
}
