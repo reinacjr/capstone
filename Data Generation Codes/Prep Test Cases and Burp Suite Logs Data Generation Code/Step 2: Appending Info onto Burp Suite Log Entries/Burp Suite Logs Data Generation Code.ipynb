{
 "cells": [
  {
   "cell_type": "markdown",
   "id": "8364f676-25cc-4153-ae84-8e506458bb22",
   "metadata": {},
   "source": [
    "# **Step 2:** Adding Important Matching Keys to the Burps Suite Sample Logs\n",
    "\n",
    "This includes:\n",
    "- Project ID\n",
    "- Test Case ID\n",
    "- User ID"
   ]
  },
  {
   "cell_type": "code",
   "execution_count": null,
   "id": "e9492dc3-8cf2-4c5c-9a23-a6096fd078a9",
   "metadata": {},
   "outputs": [],
   "source": [
    "import pandas as pd\n",
    "import re"
   ]
  },
  {
   "cell_type": "code",
   "execution_count": null,
   "id": "34032454-4be8-4ae6-80e4-8ad6eb370155",
   "metadata": {},
   "outputs": [],
   "source": [
    "#Load the first 800 rows from the CSV\n",
    "csv_path = \"refined_security_test_cases.csv\"\n",
    "df = pd.read_csv(csv_path).head(800)\n",
    "\n",
    "#Load logs.txt\n",
    "with open(\"logs.txt\", \"r\", encoding=\"utf-8\") as f:\n",
    "    original_log = f.read()\n",
    "\n",
    "#Identify HTTP request lines (GET, POST, etc.) for each log entry to insert the new fields\n",
    "request_line_pattern = re.compile(r\"^(POST|GET|PUT|DELETE) .*$\", re.MULTILINE)\n",
    "matches = list(request_line_pattern.finditer(original_log))\n",
    "\n",
    "#Prepare the insertion strings for the first 800 matches\n",
    "injections = []\n",
    "for i, match in enumerate(matches[:800]):\n",
    "    insert_pos = match.end()  # end of the matched request line\n",
    "    project_id = df.iloc[i][\"Project ID\"]\n",
    "    user_id = df.iloc[i][\"User ID\"]\n",
    "    test_case_id = df.iloc[i][\"Test Case ID\"]\n",
    "    insert_text = f\"\\nProject ID: {project_id}\\nUser ID: {user_id}\\nTest Case ID: {test_case_id}\"\n",
    "    injections.append((insert_pos, insert_text))\n",
    "\n",
    "#Insert the data in reverse to preserve character positions from original logs\n",
    "final_log = original_log\n",
    "for pos, text in reversed(injections):\n",
    "    final_log = final_log[:pos] + text + final_log[pos:]\n",
    "\n",
    "#Save the updated log file\n",
    "output_path = \"updated_logs.txt\"\n",
    "with open(output_path, \"w\", encoding=\"utf-8\") as f:\n",
    "    f.write(final_log)\n",
    "\n",
    "print(f\"Updated log saved to: {output_path}\")"
   ]
  }
 ],
 "metadata": {
  "kernelspec": {
   "display_name": "Python 3 (ipykernel)",
   "language": "python",
   "name": "python3"
  },
  "language_info": {
   "codemirror_mode": {
    "name": "ipython",
    "version": 3
   },
   "file_extension": ".py",
   "mimetype": "text/x-python",
   "name": "python",
   "nbconvert_exporter": "python",
   "pygments_lexer": "ipython3",
   "version": "3.12.4"
  }
 },
 "nbformat": 4,
 "nbformat_minor": 5
}
