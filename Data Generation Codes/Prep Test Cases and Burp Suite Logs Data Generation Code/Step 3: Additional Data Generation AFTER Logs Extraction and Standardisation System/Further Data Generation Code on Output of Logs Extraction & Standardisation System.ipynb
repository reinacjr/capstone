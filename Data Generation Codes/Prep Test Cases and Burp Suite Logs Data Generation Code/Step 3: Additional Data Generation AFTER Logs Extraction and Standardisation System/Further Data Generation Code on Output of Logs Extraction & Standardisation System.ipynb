{
 "cells": [
  {
   "cell_type": "markdown",
   "id": "8364f676-25cc-4153-ae84-8e506458bb22",
   "metadata": {},
   "source": [
    "# Further Data Generation of the output of the Logs Extraction and Standardisation System\n",
    "\n",
    "Adding some manual data to the manual fields of the logs extraction and standardisation system output to make data more realistic.\n",
    "\n",
    "NOTE: Refer to the 'Logs Standardisation System' folder to understand how the 'logs_system_output.csv' was generated first before looking at this section of the code\n",
    "\n",
    "## Manual Fields:\n",
    "- Actual Test Case Outcome\n",
    "- Reason For Failure"
   ]
  },
  {
   "cell_type": "code",
   "execution_count": null,
   "id": "e9492dc3-8cf2-4c5c-9a23-a6096fd078a9",
   "metadata": {},
   "outputs": [],
   "source": [
    "import pandas as pd\n",
    "import random\n",
    "import os"
   ]
  },
  {
   "cell_type": "code",
   "execution_count": null,
   "id": "34032454-4be8-4ae6-80e4-8ad6eb370155",
   "metadata": {},
   "outputs": [],
   "source": [
    "#file path\n",
    "csv_path = \"logs_system_output.csv\"  # <- Adjust this if needed\n",
    "\n",
    "#Load the output file\n",
    "if not os.path.isfile(csv_path):\n",
    "    raise FileNotFoundError(f\"The file '{csv_path}' was not found. Please check the path.\")\n",
    "\n",
    "df = pd.read_csv(csv_path)\n",
    "df.columns = df.columns.str.strip()\n",
    "for col in [\"Actual Test Case Outcome\", \"Reason for failure\"]:\n",
    "    if col in df.columns:\n",
    "        df.drop(columns=col, inplace=True)\n",
    "\n",
    "if \"Error Message\" in df.columns:\n",
    "    error_msg_index = df.columns.get_loc(\"Error Message\")\n",
    "    df.insert(error_msg_index + 1, \"Actual Test Case Outcome\", \"\")\n",
    "    df.insert(error_msg_index + 2, \"Reason for failure\", \"\")\n",
    "else:\n",
    "    raise ValueError(\"'Error Message' column not found in dataset.\")\n",
    "\n",
    "#Filter: Only Completed test cases with 'Pass'\n",
    "eligible = df[(df[\"Test Case Status\"] == \"Completed\") & (df[\"Test Case Outcome Message\"] == \"Pass\")]\n",
    "\n",
    "#Code randomly samples 20 rows to generate the manual verification synthetic data\n",
    "n_samples = min(20, len(eligible))\n",
    "sampled_indices = eligible.sample(n=n_samples, random_state=42).index\n",
    "\n",
    "#realistic synthetic reasons generated\n",
    "reasons = [\n",
    "    \"Not supposed to access classified info but it was accessed\",\n",
    "    \"Response was 200 OK but expected 403 Forbidden\",\n",
    "    \"System exposed internal API endpoint\",\n",
    "    \"Sensitive data visible in response payload\",\n",
    "    \"User was not authenticated but access granted\",\n",
    "    \"Unsecured file directory was browsable\",\n",
    "    \"Expected error handling did not trigger\",\n",
    "    \"Request method should not be allowed (e.g., PUT)\",\n",
    "    \"Redirection bypassed login control\",\n",
    "    \"Unexpected content leaked in response\",\n",
    "    \"Authorization check was missing for this resource\",\n",
    "    \"System responded to invalid query with sensitive data\",\n",
    "    \"Page was accessible without token\",\n",
    "    \"Request URL manipulation succeeded unexpectedly\",\n",
    "    \"No logging for sensitive request\",\n",
    "    \"Parameter tampering revealed hidden data\",\n",
    "    \"Test expected denial but received full access\",\n",
    "    \"Security header missing from response\",\n",
    "    \"Session did not expire after expected duration\",\n",
    "    \"Resource not properly encrypted in transit\"\n",
    "]\n",
    "\n",
    "#Fill the sampled cases with synthetic data\n",
    "for idx in sampled_indices:\n",
    "    df.at[idx, \"Actual Test Case Outcome\"] = \"Fail\"\n",
    "    df.at[idx, \"Reason for failure\"] = random.choice(reasons)\n",
    "\n",
    "#NaNs with empty strings in object columns only\n",
    "object_cols = df.select_dtypes(include=[\"object\"]).columns\n",
    "df[object_cols] = df[object_cols].fillna(\"\")\n",
    "\n",
    "#Save the updated file\n",
    "df.to_csv(csv_path, index=False)\n",
    "print(f\"Updated file saved to: {csv_path}\")"
   ]
  }
 ],
 "metadata": {
  "kernelspec": {
   "display_name": "Python 3 (ipykernel)",
   "language": "python",
   "name": "python3"
  },
  "language_info": {
   "codemirror_mode": {
    "name": "ipython",
    "version": 3
   },
   "file_extension": ".py",
   "mimetype": "text/x-python",
   "name": "python",
   "nbconvert_exporter": "python",
   "pygments_lexer": "ipython3",
   "version": "3.12.4"
  }
 },
 "nbformat": 4,
 "nbformat_minor": 5
}
