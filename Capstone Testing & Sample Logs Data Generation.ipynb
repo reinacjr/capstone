{
 "cells": [
  {
   "cell_type": "code",
   "execution_count": null,
   "id": "75c465cf-117e-4bac-a583-bf0a1965d9ae",
   "metadata": {},
   "outputs": [],
   "source": [
    "# Import libraries\n",
    "import pandas as pd\n",
    "import random\n",
    "from datetime import datetime, timedelta"
   ]
  },
  {
   "cell_type": "code",
   "execution_count": null,
   "id": "12a9c8fd-66a0-4325-915a-fa6012a1cdb1",
   "metadata": {},
   "outputs": [],
   "source": [
    "# Define OWASP WSTG Categories (updated with specified categorisation)\n",
    "OWASP_WSTG_CATEGORIES = {\n",
    "    \"InformationGathering\": \"WSTG-IGV-01\",\n",
    "    \"ConfigurationDeploymentManagement\": \"WSTG-CONF-02\",\n",
    "    \"IdentityManagement\": \"WSTG-IDM-03\",\n",
    "    \"AuthenticationTesting\": \"WSTG-ATHN-04\",\n",
    "    \"AuthorizationTesting\": \"WSTG-ATHZ-05\",\n",
    "    \"SessionManagementTesting\": \"WSTG-SESS-06\",\n",
    "    \"DataValidationTesting\": \"WSTG-DV-07\",\n",
    "    \"ErrorHandling\": \"WSTG-ERRH-08\",\n",
    "    \"CryptographyTesting\": \"WSTG-CRYP-09\",\n",
    "    \"BusinessLogicTesting\": \"WSTG-BUSL-10\",\n",
    "    \"ClientSideTesting\": \"WSTG-CLNT-11\",\n",
    "    \"APITesting\": \"WSTG-API-12\"\n",
    "}"
   ]
  },
  {
   "cell_type": "code",
   "execution_count": null,
   "id": "d472f420-ed04-4928-b559-3cf1411026b4",
   "metadata": {},
   "outputs": [],
   "source": [
    "# Define MITRE ATT&CK Technique IDs as a dictionary (Selected based on relevance - NOT all are here)\n",
    "\n",
    "MITRE_TECHNIQUES = {\n",
    "    \"T1190\": \"Exploit Public-Facing Application\",  # Exploit Public-Facing Application - Targets OWASP Injection, XSS, and RCE vulnerabilities\n",
    "    \"T1078\": \"Valid Accounts\", # Valid Accounts - Covers credential-based attacks like brute force and credential stuffing\n",
    "    \"T1133\": \"External Remote Services\", # External Remote Services - Exploits misconfigured VPN, RDP, or SSH, aligning with OWASP Config Testing\n",
    "    \"T1059\": \"Command and Scripting Interpreter\", # Command and Scripting Interpreter - Tests script execution vulnerabilities (JS, Python, Bash)\n",
    "    \"T1087\": \"Account Discovery\", # Account Discovery - Focuses on enumerating user accounts and roles, relevant for Identity Testing\n",
    "    \"T1110\": \"Brute Force\",  # Brute Force - Checks password strength, rate-limiting, and credential stuffing attacks\n",
    "    \"T1595\": \"Active Scanning\", # Active Scanning - Simulates attacker reconnaissance to identify open ports, services, and vulnerabilities\n",
    "    \"T1195\": \"Supply Chain Compromise\", # Supply Chain Compromise - Targets dependencies, 3rd-party software, and package vulnerabilities\n",
    "    \"T1203\": \"Exploitation for Client Execution\",  # Exploitation for Client Execution - Examines drive-by downloads, malicious script execution\n",
    "    \"T1566\": \"Phishing\" # Phishing - Tests social engineering scenarios related to email-based attacks\n",
    "}"
   ]
  },
  {
   "cell_type": "code",
   "execution_count": null,
   "id": "fdd42571-8168-4849-8df2-f5ab3c95f1dd",
   "metadata": {},
   "outputs": [],
   "source": [
    "# Define Compliance Frameworks (Random selection for Vantage Point Security Relevance)\n",
    "COMPLIANCE_FRAMEWORKS = [\"CREST Penetration Testing\", \"NIST 800-53\", \"MAS TRM (Technology Risk Management)\"]\n",
    "\n",
    "# CREST Penetration Testing - Recognized industry standard for security testing.\n",
    "# NIST 800-53 - A key framework for security and risk management.git pull origin testing\n",
    "# MAS TRM (Technology Risk Management) - Critical for financial institutions in Singapore."
   ]
  },
  {
   "cell_type": "code",
   "execution_count": null,
   "id": "73e3dd7f-f502-477b-b8b0-67f7fcf90335",
   "metadata": {},
   "outputs": [],
   "source": [
    "# Define CVSS score categories - Industry standards\n",
    "CVSS_SCORES = {\n",
    "    \"Critical\": \"9.8 - CVSS:3.1/AV:N/AC:L/PR:N/UI:N/S:U/C:H/I:H/A:H\",\n",
    "    \"High\":    \"7.5 - CVSS:3.1/AV:N/AC:L/PR:N/UI:R/S:U/C:H/I:H/A:H\",\n",
    "    \"Medium\":  \"5.4 - CVSS:3.1/AV:N/AC:H/PR:N/UI:R/S:U/C:L/I:L/A:L\",\n",
    "    \"Low\":     \"3.2 - CVSS:3.1/AV:L/AC:H/PR:N/UI:N/S:U/C:L/I:N/A:N\"\n",
    "}\n",
    "\n",
    "# CVSS base score - version of the CVSS / Attack Vector: Network / Attack Complexity: Low / Privileges Required: None / User Interaction: None / Scope: Unchanged / Confidentiality Impact: High / Integrity Impact: High / Availability Impact: High"
   ]
  },
  {
   "cell_type": "code",
   "execution_count": null,
   "id": "c7574194-b83f-4e23-b89b-2fa6e7832d62",
   "metadata": {},
   "outputs": [],
   "source": [
    "# Define possible values for testing scope, status, test case, and severity\n",
    "TESTING_SCOPES = [\"WEB\", \"APP\"]\n",
    "TESTING_SCOPE_STATUSES = [\"Not started\", \"In progress\", \"Completed\"]\n",
    "TEST_CASES = [\"Authentication\", \"Authorization\", \"Input Validation\", \"SQL Injection\", \"XSS\"] #based on common OWASP methodologies and security testing categories. \n",
    "TEST_CASE_STATUSES = [\"Not Started\", \"Completed\"]\n",
    "AFFECTED_COMPONENTS = [\"Login form\", \"User profile page\", \"Payment gateway\", \"Database\", \"Session management\"]\n",
    "SEVERITY_RATINGS = [\"Low\", \"Medium\", \"High\", \"Critical\"]"
   ]
  },
  {
   "cell_type": "code",
   "execution_count": null,
   "id": "9d52ed9c-c6c8-4151-bfc8-b2fc136f7504",
   "metadata": {},
   "outputs": [],
   "source": [
    "# Function to generate refined test cases\n",
    "def generate_test_cases(num_random_cases=800, num_not_completed_cases=100, project_ids=None, user_ids=None, seed=None):\n",
    "    if seed is not None:\n",
    "        random.seed(seed)\n",
    "    \n",
    "    if not project_ids:\n",
    "        project_ids = [f\"PRJ-{i:03}\" for i in range(1, 100)] #used 100 in this case (To be Clarified)\n",
    "    \n",
    "    if not user_ids:\n",
    "        user_ids = [f\"USER-{i:03}\" for i in range(1, 100)] #used 100 in this case (To be Clarified)   \n",
    "    test_cases = []\n",
    "    \n",
    "    # Generate 800 randomly distributed test cases\n",
    "    for i in range(1, num_random_cases + 1):\n",
    "        project_id = random.choice(project_ids)\n",
    "        project_name = f\"Test Case {i}\"  # Placeholder project name\n",
    "        user_id = random.choice(user_ids)\n",
    "        testing_scope = random.choice(TESTING_SCOPES)\n",
    "        testing_scope_status = random.choice(TESTING_SCOPE_STATUSES)\n",
    "        test_case_id = f\"TC-{i:03}\"\n",
    "        test_case = random.choice(TEST_CASES)\n",
    "        test_case_status = random.choice(TEST_CASE_STATUSES)\n",
    "        affected_components = random.choice(AFFECTED_COMPONENTS)\n",
    "        severity_rating = random.choice(SEVERITY_RATINGS)\n",
    "        \n",
    "        test_case_entry = {\n",
    "            'Project ID': project_id,\n",
    "            'Project Name': project_name,\n",
    "            'User ID': user_id,\n",
    "            'Testing Scope': testing_scope,\n",
    "            'Testing Scope Status': testing_scope_status,\n",
    "            'Test Case ID': test_case_id,\n",
    "            'Test Case': test_case,\n",
    "            'Test Case Status': test_case_status,\n",
    "            'Findings (Affected Components)': affected_components,\n",
    "            'Severity Ratings': severity_rating\n",
    "        }\n",
    "        test_cases.append(test_case_entry)\n",
    "    \n",
    "    # Generate 100 additional test cases with \"Not Started\" status, ensuring they appear from index 801-900\n",
    "    for i in range(num_random_cases + 1, num_random_cases + num_not_completed_cases + 1):\n",
    "        project_id = random.choice(project_ids)\n",
    "        project_name = f\"Test Case {i}\"  # Continue numbering\n",
    "        user_id = random.choice(user_ids)\n",
    "        testing_scope = random.choice(TESTING_SCOPES)\n",
    "        testing_scope_status = random.choice(TESTING_SCOPE_STATUSES)\n",
    "        test_case_id = f\"TC-{i:03}\"\n",
    "        test_case = random.choice(TEST_CASES)\n",
    "        test_case_status = \"Not Started\"\n",
    "        affected_components = random.choice(AFFECTED_COMPONENTS)\n",
    "        severity_rating = random.choice(SEVERITY_RATINGS)\n",
    "        \n",
    "        test_case_entry = {\n",
    "            'Project ID': project_id,\n",
    "            'Project Name': project_name,\n",
    "            'User ID': user_id,\n",
    "            'Testing Scope': testing_scope,\n",
    "            'Testing Scope Status': testing_scope_status,\n",
    "            'Test Case ID': test_case_id,\n",
    "            'Test Case': test_case,\n",
    "            'Test Case Status': test_case_status,\n",
    "            'Findings (Affected Components)': affected_components,\n",
    "            'Severity Ratings': severity_rating\n",
    "        }\n",
    "        test_cases.append(test_case_entry)\n",
    "    \n",
    "    df = pd.DataFrame(test_cases)\n",
    "    return df"
   ]
  },
  {
   "cell_type": "code",
   "execution_count": null,
   "id": "f9c3d487-a11b-43fb-a5ed-de3b22602aff",
   "metadata": {},
   "outputs": [],
   "source": [
    "if __name__ == \"__main__\":\n",
    "    try:\n",
    "        crm_projects = pd.read_csv(\"projects_data.csv\")\n",
    "        existing_project_ids = crm_projects[\"ProjectID\"].unique().tolist()\n",
    "    except FileNotFoundError:\n",
    "        print(\"No CRM project file found; using dummy ProjectIDs.\")\n",
    "        existing_project_ids = None\n",
    "    \n",
    "    test_cases_df = generate_test_cases(\n",
    "        num_random_cases=800,\n",
    "        num_not_completed_cases=100,\n",
    "        project_ids=existing_project_ids,\n",
    "        user_ids=None,\n",
    "        seed=42\n",
    "    )\n",
    "    print(\"\\n--- Sample Refined Test Cases ---\")\n",
    "    print(test_cases_df.head())\n",
    "    \n",
    "    test_cases_df.to_csv(\"refined_security_test_cases.csv\", index=False)\n",
    "    print(\"\\nSaved 'refined_security_test_cases.csv'.\")"
   ]
  },
  {
   "cell_type": "code",
   "execution_count": null,
   "id": "7b891eda-fdf7-4501-877b-dd38baaef943",
   "metadata": {},
   "outputs": [],
   "source": [
    "# use of matching Function (match_logs_to_tests) -- e.g, to match and link the testing dataset to logs \n",
    "\n",
    "# A new function match_logs_to_tests() will be added to processes the log data and matches each log entry to its corresponding test case based on keywords in the log event and test case categories.\n",
    "# Matching Logic: The function looks for matches between log events (like \"login\", \"SQL injection\") and test case categories (like \"Authentication Testing\" or MITRE attack techniques like \"T1190\")\n",
    "\n",
    "# Also require adding of things after liasing with Team 2\n",
    "# Testing requirements: "
   ]
  },
  {
   "cell_type": "markdown",
   "id": "88e2b752-2aa3-4daf-a965-e8db0eb9537b",
   "metadata": {},
   "source": [
    "Adding Important Matching Keys to the Burpsuite Sample Logs"
   ]
  },
  {
   "cell_type": "code",
   "execution_count": null,
   "id": "42f9a26e-8066-4150-b40b-24c93b75a629",
   "metadata": {},
   "outputs": [],
   "source": [
    "# Import libraries\n",
    "import pandas as pd"
   ]
  }
 ],
 "metadata": {
  "kernelspec": {
   "display_name": "Python 3 (ipykernel)",
   "language": "python",
   "name": "python3"
  },
  "language_info": {
   "codemirror_mode": {
    "name": "ipython",
    "version": 3
   },
   "file_extension": ".py",
   "mimetype": "text/x-python",
   "name": "python",
   "nbconvert_exporter": "python",
   "pygments_lexer": "ipython3",
   "version": "3.12.4"
  }
 },
 "nbformat": 4,
 "nbformat_minor": 5
}
